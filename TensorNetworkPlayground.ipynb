{
 "cells": [
  {
   "cell_type": "code",
   "execution_count": 50,
   "metadata": {},
   "outputs": [],
   "source": [
    "import cuquantum as cu\n",
    "import cutensor as ct\n",
    "\n",
    "from qiskit import *\n",
    "from qiskit.converters import circuit_to_dag\n",
    "from qiskit.quantum_info import Operator\n",
    "from qiskit.circuit.library.standard_gates import CPhaseGate, PhaseGate\n",
    "from qiskit.circuit.library import QFT\n",
    "from qiskit.visualization import array_to_latex\n",
    "\n",
    "import tensornetwork as tn\n",
    "\n",
    "import numpy as np"
   ]
  },
  {
   "cell_type": "code",
   "execution_count": 26,
   "metadata": {},
   "outputs": [
    {
     "data": {
      "image/png": "[encoded data removed]",
      "text/plain": [
       "<Figure size 1458.05x367.889 with 1 Axes>"
      ]
     },
     "execution_count": 26,
     "metadata": {},
     "output_type": "execute_result"
    }
   ],
   "source": [
    "qft_circ = QFT(4, 0, False).decompose()\n",
    "qft_circ.draw(output=\"mpl\")"
   ]
  },
  {
   "cell_type": "code",
   "execution_count": 28,
   "metadata": {},
   "outputs": [
    {
     "name": "stdout",
     "output_type": "stream",
     "text": [
      "[[ 0.70710678+0.j  0.70710678+0.j]\n",
      " [ 0.70710678+0.j -0.70710678+0.j]]\n",
      "[[1.000000e+00+0.j 0.000000e+00+0.j 0.000000e+00+0.j 0.000000e+00+0.j]\n",
      " [0.000000e+00+0.j 1.000000e+00+0.j 0.000000e+00+0.j 0.000000e+00+0.j]\n",
      " [0.000000e+00+0.j 0.000000e+00+0.j 1.000000e+00+0.j 0.000000e+00+0.j]\n",
      " [0.000000e+00+0.j 0.000000e+00+0.j 0.000000e+00+0.j 6.123234e-17+1.j]]\n",
      "[[ 0.70710678+0.j  0.70710678+0.j]\n",
      " [ 0.70710678+0.j -0.70710678+0.j]]\n",
      "[[1.        +0.j         0.        +0.j         0.        +0.j\n",
      "  0.        +0.j        ]\n",
      " [0.        +0.j         1.        +0.j         0.        +0.j\n",
      "  0.        +0.j        ]\n",
      " [0.        +0.j         0.        +0.j         1.        +0.j\n",
      "  0.        +0.j        ]\n",
      " [0.        +0.j         0.        +0.j         0.        +0.j\n",
      "  0.70710678+0.70710678j]]\n",
      "[[1.000000e+00+0.j 0.000000e+00+0.j 0.000000e+00+0.j 0.000000e+00+0.j]\n",
      " [0.000000e+00+0.j 1.000000e+00+0.j 0.000000e+00+0.j 0.000000e+00+0.j]\n",
      " [0.000000e+00+0.j 0.000000e+00+0.j 1.000000e+00+0.j 0.000000e+00+0.j]\n",
      " [0.000000e+00+0.j 0.000000e+00+0.j 0.000000e+00+0.j 6.123234e-17+1.j]]\n",
      "[[ 0.70710678+0.j  0.70710678+0.j]\n",
      " [ 0.70710678+0.j -0.70710678+0.j]]\n",
      "[[1.        +0.j         0.        +0.j         0.        +0.j\n",
      "  0.        +0.j        ]\n",
      " [0.        +0.j         1.        +0.j         0.        +0.j\n",
      "  0.        +0.j        ]\n",
      " [0.        +0.j         0.        +0.j         1.        +0.j\n",
      "  0.        +0.j        ]\n",
      " [0.        +0.j         0.        +0.j         0.        +0.j\n",
      "  0.92387953+0.38268343j]]\n",
      "[[1.        +0.j         0.        +0.j         0.        +0.j\n",
      "  0.        +0.j        ]\n",
      " [0.        +0.j         1.        +0.j         0.        +0.j\n",
      "  0.        +0.j        ]\n",
      " [0.        +0.j         0.        +0.j         1.        +0.j\n",
      "  0.        +0.j        ]\n",
      " [0.        +0.j         0.        +0.j         0.        +0.j\n",
      "  0.70710678+0.70710678j]]\n",
      "[[1.000000e+00+0.j 0.000000e+00+0.j 0.000000e+00+0.j 0.000000e+00+0.j]\n",
      " [0.000000e+00+0.j 1.000000e+00+0.j 0.000000e+00+0.j 0.000000e+00+0.j]\n",
      " [0.000000e+00+0.j 0.000000e+00+0.j 1.000000e+00+0.j 0.000000e+00+0.j]\n",
      " [0.000000e+00+0.j 0.000000e+00+0.j 0.000000e+00+0.j 6.123234e-17+1.j]]\n",
      "[[ 0.70710678+0.j  0.70710678+0.j]\n",
      " [ 0.70710678+0.j -0.70710678+0.j]]\n"
     ]
    }
   ],
   "source": [
    "for circ_instruction in qft_circ.data:\n",
    "    gate = circ_instruction[0]\n",
    "    print(Operator(gate).data)"
   ]
  },
  {
   "attachments": {},
   "cell_type": "markdown",
   "metadata": {},
   "source": [
    "# H Tensor Node"
   ]
  },
  {
   "cell_type": "code",
   "execution_count": 29,
   "metadata": {},
   "outputs": [],
   "source": [
    "def H_Node(): \n",
    "    h_arr = np.array([[1, 1], [1, -1]], dtype=complex) / np.sqrt(2)\n",
    "    return tn.Node(h_arr, backend=\"jax\")"
   ]
  },
  {
   "cell_type": "code",
   "execution_count": 61,
   "metadata": {},
   "outputs": [],
   "source": [
    "def CP_Node(theta):\n",
    "    p_mat = CPhaseGate(theta).to_matrix().reshape((2,2,2,2))\n",
    "    return tn.Node(p_mat, f\"P({theta:0.2f})\", backend=\"jax\")"
   ]
  },
  {
   "cell_type": "code",
   "execution_count": null,
   "metadata": {},
   "outputs": [],
   "source": [
    "def P_Node(theta):\n",
    "    p_mat = PhaseGate(theta).to_matrix().reshape((2,2))\n",
    "    return tn.Node(p_mat, backend=\"jax\")"
   ]
  },
  {
   "cell_type": "code",
   "execution_count": 49,
   "metadata": {},
   "outputs": [
    {
     "name": "stdout",
     "output_type": "stream",
     "text": [
      "[0.70710677+0.j 0.70710677+0.j]\n"
     ]
    }
   ],
   "source": [
    "start_state = tn.Node(np.array([1.0 + 0.0j, 0.0 + 0.0j]), backend=\"jax\")\n",
    "hadamard = H_Node()\n",
    "\n",
    "\n",
    "# Connect our state to the H gate\n",
    "start_state[0] ^ hadamard[0]\n",
    "\n",
    "c = tn.contract_between(start_state, hadamard)\n",
    "print(c.tensor)"
   ]
  },
  {
   "attachments": {},
   "cell_type": "markdown",
   "metadata": {},
   "source": [
    "# Multiple Qubits"
   ]
  },
  {
   "cell_type": "code",
   "execution_count": 43,
   "metadata": {},
   "outputs": [
    {
     "data": {
      "image/svg+xml": "<?xml version=\"1.0\" encoding=\"UTF-8\" standalone=\"no\"?>\n<!DOCTYPE svg PUBLIC \"-//W3C//DTD SVG 1.1//EN\"\n \"http://www.w3.org/Graphics/SVG/1.1/DTD/svg11.dtd\">\n<!-- Generated by graphviz version 8.0.3 (0)\n -->\n<!-- Title: G Pages: 1 -->\n<svg width=\"358pt\" height=\"290pt\"\n viewBox=\"0.00 0.00 358.21 289.63\" xmlns=\"http://www.w3.org/2000/svg\" xmlns:xlink=\"http://www.w3.org/1999/xlink\">\n<g id=\"graph0\" class=\"graph\" transform=\"scale(1 1) rotate(0) translate(4 285.63)\">\n<title>G</title>\n<polygon fill=\"white\" stroke=\"none\" points=\"-4,4 -4,-285.63 354.21,-285.63 354.21,4 -4,4\"/>\n<!-- 140055202580944 -->\n<g id=\"node1\" class=\"node\">\n<title>140055202580944</title>\n<ellipse fill=\"none\" stroke=\"black\" cx=\"102\" cy=\"-253.64\" rx=\"27\" ry=\"18\"/>\n</g>\n<!-- 140055202584928 -->\n<g id=\"node2\" class=\"node\">\n<title>140055202584928</title>\n<ellipse fill=\"none\" stroke=\"black\" cx=\"252\" cy=\"-28.64\" rx=\"27\" ry=\"18\"/>\n</g>\n<!-- 140055202585120 -->\n<g id=\"node3\" class=\"node\">\n<title>140055202585120</title>\n<ellipse fill=\"none\" stroke=\"black\" cx=\"245.96\" cy=\"-206.21\" rx=\"27\" ry=\"18\"/>\n</g>\n<!-- 140055202585216 -->\n<g id=\"node4\" class=\"node\">\n<title>140055202585216</title>\n<ellipse fill=\"none\" stroke=\"black\" cx=\"93.22\" cy=\"-114.66\" rx=\"27\" ry=\"18\"/>\n</g>\n<!-- 140055202580944_0 -->\n<!-- 140055202580944_0&#45;&#45;140055202580944 -->\n<g id=\"edge1\" class=\"edge\">\n<title>140055202580944_0&#45;&#45;140055202580944</title>\n<path fill=\"none\" stroke=\"black\" d=\"M146.69,-246.96C140.84,-247.84 134.64,-248.76 128.78,-249.64\"/>\n<text text-anchor=\"middle\" x=\"140.23\" y=\"-237.1\" font-family=\"Times,serif\" font-size=\"14.00\">0</text>\n</g>\n<!-- 140055202584928_0 -->\n<!-- 140055202584928_0&#45;&#45;140055202584928 -->\n<g id=\"edge2\" class=\"edge\">\n<title>140055202584928_0&#45;&#45;140055202584928</title>\n<path fill=\"none\" stroke=\"black\" d=\"M296.69,-21.96C290.84,-22.84 284.64,-23.76 278.78,-24.64\"/>\n<text text-anchor=\"middle\" x=\"290.23\" y=\"-12.1\" font-family=\"Times,serif\" font-size=\"14.00\">0</text>\n</g>\n<!-- 140055202585120_0 -->\n<!-- 140055202585120_0&#45;&#45;140055202585120 -->\n<g id=\"edge3\" class=\"edge\">\n<title>140055202585120_0&#45;&#45;140055202585120</title>\n<path fill=\"none\" stroke=\"black\" d=\"M277.39,-247.33C271.41,-239.5 264.26,-230.15 258.3,-222.35\"/>\n<text text-anchor=\"middle\" x=\"262.84\" y=\"-238.64\" font-family=\"Times,serif\" font-size=\"14.00\">0</text>\n</g>\n<!-- 140055202585120_1 -->\n<!-- 140055202585120_1&#45;&#45;140055202585120 -->\n<g id=\"edge4\" class=\"edge\">\n<title>140055202585120_1&#45;&#45;140055202585120</title>\n<path fill=\"none\" stroke=\"black\" d=\"M228.29,-155.92C231.84,-166.02 236.26,-178.6 239.79,-188.64\"/>\n<text text-anchor=\"middle\" x=\"229.04\" y=\"-176.08\" font-family=\"Times,serif\" font-size=\"14.00\">1</text>\n</g>\n<!-- 140055202585216_0 -->\n<!-- 140055202585216_0&#45;&#45;140055202585216 -->\n<g id=\"edge5\" class=\"edge\">\n<title>140055202585216_0&#45;&#45;140055202585216</title>\n<path fill=\"none\" stroke=\"black\" d=\"M140.26,-84.16C131.65,-89.74 121.57,-96.27 112.96,-101.86\"/>\n<text text-anchor=\"middle\" x=\"121.61\" y=\"-81.81\" font-family=\"Times,serif\" font-size=\"14.00\">0</text>\n</g>\n<!-- 140055202585216_1 -->\n<!-- 140055202585216_1&#45;&#45;140055202585216 -->\n<g id=\"edge6\" class=\"edge\">\n<title>140055202585216_1&#45;&#45;140055202585216</title>\n<path fill=\"none\" stroke=\"black\" d=\"M60.95,-64.82C67.54,-75 75.92,-87.93 82.48,-98.07\"/>\n<text text-anchor=\"middle\" x=\"66.71\" y=\"-85.25\" font-family=\"Times,serif\" font-size=\"14.00\">1</text>\n</g>\n<!-- 140055202585216_2 -->\n<!-- 140055202585216_2&#45;&#45;140055202585216 -->\n<g id=\"edge7\" class=\"edge\">\n<title>140055202585216_2&#45;&#45;140055202585216</title>\n<path fill=\"none\" stroke=\"black\" d=\"M46.51,-145.59C55.21,-139.83 65.42,-133.06 74.08,-127.33\"/>\n<text text-anchor=\"middle\" x=\"55.29\" y=\"-125.26\" font-family=\"Times,serif\" font-size=\"14.00\">2</text>\n</g>\n<!-- 140055202585216_3 -->\n<!-- 140055202585216_3&#45;&#45;140055202585216 -->\n<g id=\"edge8\" class=\"edge\">\n<title>140055202585216_3&#45;&#45;140055202585216</title>\n<path fill=\"none\" stroke=\"black\" d=\"M126,-164.24C119.3,-154.11 110.8,-141.24 104.13,-131.15\"/>\n<text text-anchor=\"middle\" x=\"110.06\" y=\"-151.5\" font-family=\"Times,serif\" font-size=\"14.00\">3</text>\n</g>\n</g>\n</svg>\n",
      "text/plain": [
       "<graphviz.graphs.Graph at 0x7f6124994550>"
      ]
     },
     "execution_count": 43,
     "metadata": {},
     "output_type": "execute_result"
    }
   ],
   "source": [
    "def CNOT_Node():\n",
    "    cnot_arr = np.array(\n",
    "        [[1, 0, 0, 0], \n",
    "         [0, 1, 0, 0], \n",
    "         [0, 0, 0, 1], \n",
    "         [0, 0, 1, 0]]\n",
    "    ).reshape((2,2,2,2))\n",
    "\n",
    "    return tn.Node(cnot_arr, backend=\"jax\")\n",
    "\n",
    "def apply_gate(qubit_edges, gate, operating_qubits):\n",
    "    op = tn.Node(gate, backend=\"jax\")\n",
    "    for i, bit in enumerate(operating_qubits):\n",
    "        qubit_edges[bit] ^ op[i]\n",
    "        qubit_edges[bit] = op[i + len(operating_qubits)]\n",
    "\n",
    "H = H_Node()\n",
    "CNOT = CNOT_Node()\n",
    "all_nodes = []\n",
    "\n",
    "# Create a set of nodes for our qubits\n",
    "with tn.NodeCollection(all_nodes):\n",
    "    state_nodes = [\n",
    "        tn.Node(np.array([1.0 + 0.0j, 0.0 + 0.0j]), backend=\"jax\") for _ in range(2)\n",
    "    ]\n",
    "\n",
    "    qubits = [node[0] for node in state_nodes]\n",
    "    apply_gate(qubits, H, [0])\n",
    "    apply_gate(qubits, CNOT, [0, 1])\n",
    "\n",
    "\n",
    "result = tn.contractors.optimal(all_nodes, output_edge_order=qubits)\n",
    "tn.to_graphviz(all_nodes, None)\n",
    "# print(result.tensor)"
   ]
  },
  {
   "attachments": {},
   "cell_type": "markdown",
   "metadata": {},
   "source": [
    "# Starting on MPO"
   ]
  },
  {
   "cell_type": "code",
   "execution_count": 66,
   "metadata": {},
   "outputs": [
    {
     "data": {
      "image/svg+xml": "<?xml version=\"1.0\" encoding=\"UTF-8\" standalone=\"no\"?>\n<!DOCTYPE svg PUBLIC \"-//W3C//DTD SVG 1.1//EN\"\n \"http://www.w3.org/Graphics/SVG/1.1/DTD/svg11.dtd\">\n<!-- Generated by graphviz version 8.0.3 (0)\n -->\n<!-- Title: G Pages: 1 -->\n<svg width=\"255pt\" height=\"369pt\"\n viewBox=\"0.00 0.00 255.06 369.07\" xmlns=\"http://www.w3.org/2000/svg\" xmlns:xlink=\"http://www.w3.org/1999/xlink\">\n<g id=\"graph0\" class=\"graph\" transform=\"scale(1 1) rotate(0) translate(4 365.07)\">\n<title>G</title>\n<polygon fill=\"white\" stroke=\"none\" points=\"-4,4 -4,-365.07 251.06,-365.07 251.06,4 -4,4\"/>\n<!-- 140054236942384 -->\n<g id=\"node1\" class=\"node\">\n<title>140054236942384</title>\n<ellipse fill=\"none\" stroke=\"black\" cx=\"107.49\" cy=\"-264.98\" rx=\"44.39\" ry=\"18\"/>\n<text text-anchor=\"middle\" x=\"107.49\" y=\"-261.28\" font-family=\"Times,serif\" font-size=\"14.00\">P(1.57)</text>\n</g>\n<!-- 140054236953184 -->\n<g id=\"node2\" class=\"node\">\n<title>140054236953184</title>\n<ellipse fill=\"none\" stroke=\"black\" cx=\"121.71\" cy=\"-179.91\" rx=\"44.39\" ry=\"18\"/>\n<text text-anchor=\"middle\" x=\"121.71\" y=\"-176.21\" font-family=\"Times,serif\" font-size=\"14.00\">P(0.79)</text>\n</g>\n<!-- 140054236942384&#45;&#45;140054236953184 -->\n<g id=\"edge2\" class=\"edge\">\n<title>140054236942384&#45;&#45;140054236953184</title>\n<path fill=\"none\" stroke=\"black\" d=\"M110.51,-246.94C112.9,-232.6 116.24,-212.63 118.65,-198.22\"/>\n</g>\n<!-- 140054236953616 -->\n<g id=\"node3\" class=\"node\">\n<title>140054236953616</title>\n<ellipse fill=\"none\" stroke=\"black\" cx=\"138.36\" cy=\"-95.27\" rx=\"44.39\" ry=\"18\"/>\n<text text-anchor=\"middle\" x=\"138.36\" y=\"-91.57\" font-family=\"Times,serif\" font-size=\"14.00\">P(0.39)</text>\n</g>\n<!-- 140054236953184&#45;&#45;140054236953616 -->\n<g id=\"edge7\" class=\"edge\">\n<title>140054236953184&#45;&#45;140054236953616</title>\n<path fill=\"none\" stroke=\"black\" d=\"M125.32,-161.54C128.12,-147.34 131.96,-127.78 134.75,-113.6\"/>\n</g>\n<!-- 140054236942384_0 -->\n<!-- 140054236942384_0&#45;&#45;140054236942384 -->\n<g id=\"edge1\" class=\"edge\">\n<title>140054236942384_0&#45;&#45;140054236942384</title>\n<path fill=\"none\" stroke=\"black\" d=\"M52.03,-281.72C58.21,-279.85 64.96,-277.82 71.55,-275.83\"/>\n</g>\n<!-- 140054236942384_2 -->\n<!-- 140054236942384_2&#45;&#45;140054236942384 -->\n<g id=\"edge3\" class=\"edge\">\n<title>140054236942384_2&#45;&#45;140054236942384</title>\n<path fill=\"none\" stroke=\"black\" d=\"M157.47,-300.57C148.88,-294.45 138.64,-287.16 129.68,-280.78\"/>\n</g>\n<!-- 140054236942384_3 -->\n<!-- 140054236942384_3&#45;&#45;140054236942384 -->\n<g id=\"edge4\" class=\"edge\">\n<title>140054236942384_3&#45;&#45;140054236942384</title>\n<path fill=\"none\" stroke=\"black\" d=\"M98.21,-324.96C100.14,-312.43 102.72,-295.83 104.66,-283.27\"/>\n</g>\n<!-- 140054236953184_0 -->\n<!-- 140054236953184_0&#45;&#45;140054236953184 -->\n<g id=\"edge5\" class=\"edge\">\n<title>140054236953184_0&#45;&#45;140054236953184</title>\n<path fill=\"none\" stroke=\"black\" d=\"M66.73,-169.88C71.26,-170.71 76.08,-171.58 80.9,-172.46\"/>\n</g>\n<!-- 140054236953184_2 -->\n<!-- 140054236953184_2&#45;&#45;140054236953184 -->\n<g id=\"edge6\" class=\"edge\">\n<title>140054236953184_2&#45;&#45;140054236953184</title>\n<path fill=\"none\" stroke=\"black\" d=\"M176.1,-189.82C171.77,-189.03 167.2,-188.19 162.62,-187.36\"/>\n</g>\n<!-- 140054236953616_0 -->\n<!-- 140054236953616_0&#45;&#45;140054236953616 -->\n<g id=\"edge8\" class=\"edge\">\n<title>140054236953616_0&#45;&#45;140054236953616</title>\n<path fill=\"none\" stroke=\"black\" d=\"M89.57,-57.78C98.21,-64.42 108.63,-72.42 117.61,-79.33\"/>\n</g>\n<!-- 140054236953616_2 -->\n<!-- 140054236953616_2&#45;&#45;140054236953616 -->\n<g id=\"edge9\" class=\"edge\">\n<title>140054236953616_2&#45;&#45;140054236953616</title>\n<path fill=\"none\" stroke=\"black\" d=\"M150.97,-36.31C148.34,-48.63 144.88,-64.8 142.25,-77.09\"/>\n</g>\n<!-- 140054236953616_3 -->\n<!-- 140054236953616_3&#45;&#45;140054236953616 -->\n<g id=\"edge10\" class=\"edge\">\n<title>140054236953616_3&#45;&#45;140054236953616</title>\n<path fill=\"none\" stroke=\"black\" d=\"M194.66,-80.52C188.75,-82.07 182.35,-83.74 176.04,-85.4\"/>\n</g>\n</g>\n</svg>\n",
      "text/plain": [
       "<graphviz.graphs.Graph at 0x7f60eb073c70>"
      ]
     },
     "execution_count": 66,
     "metadata": {},
     "output_type": "execute_result"
    }
   ],
   "source": [
    "P0 = CP_Node(np.pi/2)\n",
    "P1 = CP_Node(np.pi/4)\n",
    "P2 = CP_Node(np.pi/8)\n",
    "nodes = [P0, P1, P2]\n",
    "\n",
    "P0[1] ^ P1[1]\n",
    "P1[3] ^ P2[1]\n",
    "\n",
    "\n",
    "tn.to_graphviz(nodes, None)"
   ]
  },
  {
   "cell_type": "code",
   "execution_count": null,
   "metadata": {},
   "outputs": [],
   "source": []
  }
 ],
 "metadata": {
  "kernelspec": {
   "display_name": "Python 3",
   "language": "python",
   "name": "python3"
  },
  "language_info": {
   "codemirror_mode": {
    "name": "ipython",
    "version": 3
   },
   "file_extension": ".py",
   "mimetype": "text/x-python",
   "name": "python",
   "nbconvert_exporter": "python",
   "pygments_lexer": "ipython3",
   "version": "3.10.10"
  },
  "orig_nbformat": 4,
  "vscode": {
   "interpreter": {
    "hash": "e7370f93d1d0cde622a1f8e1c04877d8463912d04d973331ad4851f04de6915a"
   }
  }
 },
 "nbformat": 4,
 "nbformat_minor": 2
}
