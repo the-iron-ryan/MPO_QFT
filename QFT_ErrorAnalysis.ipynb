{
 "cells": [
  {
   "cell_type": "code",
   "execution_count": 1,
   "metadata": {},
   "outputs": [],
   "source": [
    "from TensorHelpers import *\n",
    "from QFT import *\n",
    "from MPS import *\n",
    "\n",
    "import numpy as np\n",
    "from qiskit.visualization import array_to_latex"
   ]
  },
  {
   "cell_type": "code",
   "execution_count": 2,
   "metadata": {},
   "outputs": [],
   "source": [
    "def run_err_analysis(N, f, fft_start=0.0, fft_end=1.0, max_bond_mps=10, max_bond_mpo=8, cutoff_mps=1e-12, cutoff_mpo=1e-12):\n",
    "    mps = MPS(N)\n",
    "    qft = QFT(N)\n",
    "   \n",
    "    # Computing benchmark for MPS and MPO\n",
    "    mps = mps.create_MPS([f], fft_start, fft_end, max_bond=max_bond_mps, cutoff=cutoff_mps, reverse=True)\n",
    "   \n",
    "    qft = qft.create_MPO(max_bond_dim=max_bond_mpo, cutoff=cutoff_mpo, reverse=True)\n",
    "    \n",
    "    qft_res = qft.apply(mps)\n",
    "   \n",
    "\n",
    "    # Comparing accuracy to FFT\n",
    "    input = np.arange(fft_start, fft_end, step=1/(2**N))\n",
    "    output = f(input)\n",
    "    fft_out_vec = np.fft.fft(output).reshape(-1,) / 2**(N/2)\n",
    "    qft_out_vec = qft_res.to_dense().reshape(-1,)\n",
    "\n",
    "    print(f\"====== QFT MPO Error (N={N}, max_bond_mps={max_bond_mps}, max_bond_mpo={max_bond_mpo}, cutoff={cutoff_mps}) ======\")\n",
    "    print(\"QFT vs FFT Error: \", np.linalg.norm(fft_out_vec - qft_out_vec))"
   ]
  },
  {
   "cell_type": "code",
   "execution_count": 3,
   "metadata": {},
   "outputs": [],
   "source": [
    "f = lambda x: np.cos(2*np.pi*x)"
   ]
  },
  {
   "attachments": {},
   "cell_type": "markdown",
   "metadata": {},
   "source": [
    "## Result Error values with qubit sizes 7-10 and MPO bond dimension 4"
   ]
  },
  {
   "cell_type": "code",
   "execution_count": 16,
   "metadata": {},
   "outputs": [
    {
     "name": "stdout",
     "output_type": "stream",
     "text": [
      "====== QFT MPO Error (N=7, max_bond_mps=10, max_bond_mpo=4, cutoff=1e-15) ======\n",
      "QFT vs FFT Error:  0.02118222363314186\n",
      "====== QFT MPO Error (N=8, max_bond_mps=10, max_bond_mpo=4, cutoff=1e-15) ======\n",
      "QFT vs FFT Error:  0.051956238931130404\n",
      "====== QFT MPO Error (N=9, max_bond_mps=10, max_bond_mpo=4, cutoff=1e-15) ======\n",
      "QFT vs FFT Error:  0.09547918292221301\n",
      "====== QFT MPO Error (N=10, max_bond_mps=10, max_bond_mpo=4, cutoff=1e-15) ======\n",
      "QFT vs FFT Error:  0.1610251253929388\n"
     ]
    }
   ],
   "source": [
    "chi = 4\n",
    "n_vals = [7,8,9,10]\n",
    "for N in n_vals:\n",
    "    run_err_analysis(N, f, max_bond_mps=10, max_bond_mpo=chi, cutoff_mps=1e-15, cutoff_mpo=1e-15)"
   ]
  },
  {
   "attachments": {},
   "cell_type": "markdown",
   "metadata": {},
   "source": [
    "## Result Error values with qubit size 9 and MPO bond dimension 5-8"
   ]
  },
  {
   "cell_type": "code",
   "execution_count": 17,
   "metadata": {},
   "outputs": [
    {
     "name": "stdout",
     "output_type": "stream",
     "text": [
      "====== QFT MPO Error (N=9, max_bond_mps=10, max_bond_mpo=5, cutoff=1e-15) ======\n",
      "QFT vs FFT Error:  0.012410151724195406\n",
      "====== QFT MPO Error (N=9, max_bond_mps=10, max_bond_mpo=6, cutoff=1e-15) ======\n",
      "QFT vs FFT Error:  0.0003493497327228952\n",
      "====== QFT MPO Error (N=9, max_bond_mps=10, max_bond_mpo=7, cutoff=1e-15) ======\n",
      "QFT vs FFT Error:  2.5524932139270236e-05\n",
      "====== QFT MPO Error (N=9, max_bond_mps=10, max_bond_mpo=8, cutoff=1e-15) ======\n",
      "QFT vs FFT Error:  1.3080105031798534e-06\n"
     ]
    }
   ],
   "source": [
    "N = 9\n",
    "chi_vals = [5,6,7,8]\n",
    "for chi in chi_vals:\n",
    "    run_err_analysis(N, f, max_bond_mps=10, max_bond_mpo=chi, cutoff_mps=1e-15, cutoff_mpo=1e-15)"
   ]
  },
  {
   "cell_type": "code",
   "execution_count": null,
   "metadata": {},
   "outputs": [],
   "source": []
  }
 ],
 "metadata": {
  "kernelspec": {
   "display_name": "Python 3",
   "language": "python",
   "name": "python3"
  },
  "language_info": {
   "codemirror_mode": {
    "name": "ipython",
    "version": 3
   },
   "file_extension": ".py",
   "mimetype": "text/x-python",
   "name": "python",
   "nbconvert_exporter": "python",
   "pygments_lexer": "ipython3",
   "version": "3.11.3"
  },
  "orig_nbformat": 4,
  "vscode": {
   "interpreter": {
    "hash": "e7370f93d1d0cde622a1f8e1c04877d8463912d04d973331ad4851f04de6915a"
   }
  }
 },
 "nbformat": 4,
 "nbformat_minor": 2
}
