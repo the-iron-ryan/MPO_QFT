{
 "cells": [
  {
   "cell_type": "code",
   "execution_count": 4,
   "metadata": {},
   "outputs": [],
   "source": [
    "from TensorHelpers import *\n",
    "from QFT import *\n",
    "from MPS import *\n",
    "\n",
    "import timeit\n",
    "import pandas as pd\n",
    "import numpy as np\n",
    "import matplotlib.pyplot as plt\n",
    "from qiskit.visualization import array_to_latex"
   ]
  },
  {
   "attachments": {},
   "cell_type": "markdown",
   "metadata": {},
   "source": [
    "# Benchmark functionality"
   ]
  },
  {
   "cell_type": "code",
   "execution_count": 5,
   "metadata": {},
   "outputs": [],
   "source": [
    "def run_benchmark(N, f, fft_start=0.0, fft_end=1.0, max_bond_mps=10, max_bond_mpo=8, cutoff_mps=1e-12, cutoff_mpo=1e-12, verbose=False):\n",
    "    mps = MPS(N)\n",
    "    qft = QFT(N)\n",
    "   \n",
    "    # Computing benchmark for MPS and MPO\n",
    "    mps_start = timeit.default_timer() \n",
    "    mps = mps.create_MPS([f], fft_start, fft_end, max_bond=max_bond_mps, cutoff=cutoff_mps, reverse=True)\n",
    "    mps_construct_time = timeit.default_timer() - mps_start\n",
    "   \n",
    "    qft_start = timeit.default_timer() \n",
    "    qft = qft.create_MPO(max_bond_dim=max_bond_mpo, cutoff=cutoff_mpo, reverse=True)\n",
    "    qft_construct_time = timeit.default_timer() - qft_start\n",
    "    \n",
    "    qft_apply_start = timeit.default_timer() \n",
    "    qft_res = qft.apply(mps)\n",
    "    qft_apply_time = timeit.default_timer() - qft_apply_start\n",
    "   \n",
    "    # Total time \n",
    "    mps_construct_apply_time = mps_construct_time + qft_apply_time\n",
    "    \n",
    "    if verbose:\n",
    "        print(f\"====== Results for benchmark (N={N}, max_bond={max_bond_mps}, cutoff={cutoff_mps}) ======\")\n",
    "        print(\"MPS Construct Time: \", mps_construct_time)\n",
    "        print(\"QFT Construct Time: \", qft_construct_time)\n",
    "        print(\"QFT Apply Time: \", qft_apply_time)\n",
    "        print(\"MPS + Apply Time: \", mps_construct_apply_time, \"\\n\")\n",
    "   \n",
    "        # Comparing accuracy to FFT\n",
    "        input = np.arange(fft_start, fft_end, step=1/(2**N))\n",
    "        output = f(input)\n",
    "        fft_out_vec = np.fft.fft(output).reshape(-1,) / 2**(N/2)\n",
    "        qft_out_vec = qft_res.to_dense().reshape(-1,)\n",
    "\n",
    "        print(\"QFT vs FFT Error: \", np.linalg.norm(fft_out_vec - qft_out_vec))\n",
    "\n",
    "    return qft_apply_time, mps_construct_apply_time\n",
    "\n",
    "def run_benchmark_fft(N, f, fft_start=0.0, fft_end=1.0):\n",
    "    input = np.arange(fft_start, fft_end, step=1/(2**N))\n",
    "    output = f(input)\n",
    "    fft_start = timeit.default_timer()\n",
    "    fft_out_vec = np.fft.fft(output).reshape(-1,) / 2**(N/2)\n",
    "    fft_time = timeit.default_timer() - fft_start\n",
    "    return fft_time\n",
    "    "
   ]
  },
  {
   "attachments": {},
   "cell_type": "markdown",
   "metadata": {},
   "source": [
    "# Testing Benchmark"
   ]
  },
  {
   "cell_type": "code",
   "execution_count": 13,
   "metadata": {},
   "outputs": [
    {
     "name": "stdout",
     "output_type": "stream",
     "text": [
      "====== Results for benchmark (N=16, max_bond=6, cutoff=1e-12) ======\n",
      "MPS Construct Time:  0.009470198998315027\n",
      "QFT Construct Time:  0.49391406100039603\n",
      "QFT Apply Time:  0.004518500998528907\n",
      "MPS + Apply Time:  0.013988699996843934 \n",
      "\n",
      "QFT vs FFT Error:  0.03690362135397189\n"
     ]
    },
    {
     "data": {
      "text/plain": [
       "(0.004518500998528907, 0.013988699996843934)"
      ]
     },
     "execution_count": 13,
     "metadata": {},
     "output_type": "execute_result"
    }
   ],
   "source": [
    "run_benchmark(16, lambda x: np.cos(x), verbose=True, max_bond_mps=6, max_bond_mpo=6, cutoff_mps=1e-12, cutoff_mpo=1e-12)"
   ]
  },
  {
   "cell_type": "code",
   "execution_count": 2,
   "metadata": {},
   "outputs": [
    {
     "ename": "NameError",
     "evalue": "name 'MPS' is not defined",
     "output_type": "error",
     "traceback": [
      "\u001b[0;31m---------------------------------------------------------------------------\u001b[0m",
      "\u001b[0;31mNameError\u001b[0m                                 Traceback (most recent call last)",
      "Cell \u001b[0;32mIn[2], line 1\u001b[0m\n\u001b[0;32m----> 1\u001b[0m run_benchmark(\u001b[39m16\u001b[39;49m, \u001b[39mlambda\u001b[39;49;00m x: np\u001b[39m.\u001b[39;49mcos(x))\n",
      "Cell \u001b[0;32mIn[1], line 2\u001b[0m, in \u001b[0;36mrun_benchmark\u001b[0;34m(N, f, fft_start, fft_end, max_bond_mps, max_bond_mpo, cutoff_mps, cutoff_mpo, verbose)\u001b[0m\n\u001b[1;32m      1\u001b[0m \u001b[39mdef\u001b[39;00m \u001b[39mrun_benchmark\u001b[39m(N, f, fft_start\u001b[39m=\u001b[39m\u001b[39m0.0\u001b[39m, fft_end\u001b[39m=\u001b[39m\u001b[39m1.0\u001b[39m, max_bond_mps\u001b[39m=\u001b[39m\u001b[39m-\u001b[39m\u001b[39m1\u001b[39m, max_bond_mpo\u001b[39m=\u001b[39m\u001b[39m-\u001b[39m\u001b[39m1\u001b[39m, cutoff_mps\u001b[39m=\u001b[39m\u001b[39m1e-12\u001b[39m, cutoff_mpo\u001b[39m=\u001b[39m\u001b[39m1e-12\u001b[39m, verbose\u001b[39m=\u001b[39m\u001b[39mFalse\u001b[39;00m):\n\u001b[0;32m----> 2\u001b[0m     mps \u001b[39m=\u001b[39m MPS(N)\n\u001b[1;32m      3\u001b[0m     qft \u001b[39m=\u001b[39m QFT(N)\n\u001b[1;32m      5\u001b[0m     \u001b[39m# Computing benchmark for MPS and MPO\u001b[39;00m\n",
      "\u001b[0;31mNameError\u001b[0m: name 'MPS' is not defined"
     ]
    }
   ],
   "source": [
    "run_benchmark(16, lambda x: np.cos(x))"
   ]
  },
  {
   "cell_type": "code",
   "execution_count": 5,
   "metadata": {},
   "outputs": [
    {
     "name": "stdout",
     "output_type": "stream",
     "text": [
      "====== Results for benchmark (N=20, max_bond=-1, cutoff=1e-15) ======\n",
      "MPS Construct Time:  0.19002685899977223\n",
      "QFT Construct Time:  2.3637312239989114\n",
      "QFT Apply Time:  0.014907057000527857\n",
      "Total Time:  2.5686651399992115 \n",
      "\n",
      "QFT vs FFT Error:  1.330717896952343e-09\n"
     ]
    }
   ],
   "source": [
    "run_benchmark(20, lambda x: np.cos(x), max_bond=-1, cutoff=1e-15)"
   ]
  },
  {
   "cell_type": "code",
   "execution_count": 6,
   "metadata": {},
   "outputs": [
    {
     "name": "stdout",
     "output_type": "stream",
     "text": [
      "====== Results for benchmark (N=26, max_bond=-1, cutoff=1e-15) ======\n",
      "MPS Construct Time:  5.5631886680002935\n",
      "QFT Construct Time:  3.7497952909998276\n",
      "QFT Apply Time:  0.019454530998700648\n",
      "Total Time:  9.332438489998822 \n",
      "\n",
      "QFT vs FFT Error:  0.00017825112670845865\n"
     ]
    }
   ],
   "source": [
    "run_benchmark(26, lambda x: np.cos(x), max_bond=-1, cutoff=1e-15)"
   ]
  },
  {
   "attachments": {},
   "cell_type": "markdown",
   "metadata": {},
   "source": [
    "# Plotting Benchmark"
   ]
  },
  {
   "cell_type": "code",
   "execution_count": 3,
   "metadata": {},
   "outputs": [],
   "source": [
    "function_names = [\"Gaus\", \"Cos\", \"Cusps\", \"FFT\"]\n",
    "functions = [lambda x: np.exp(-(x - 0.5)**2 / 0.1**2), lambda x: np.cos(2*np.pi*x), lambda x: np.cos(2*np.pi*x) + 2*np.exp(-3*np.abs(x - 0.2)), lambda x: np.cos(2*np.pi*x)]\n",
    "\n",
    "start_qubits = 4\n",
    "end_qubits = 26\n",
    "\n",
    "for i in range(len(functions)):\n",
    "    # data storage\n",
    "    runtimes = []\n",
    "    mpo_mps_apply_runtimes = []\n",
    "\n",
    "    f = functions[i]\n",
    "    f_name = function_names[i]\n",
    "\n",
    "    qubit_range = np.arange(start_qubits, end_qubits)\n",
    "    for N in qubit_range:\n",
    "      if f_name == \"FFT\":\n",
    "        fft_runtime = run_benchmark_fft(N,f)\n",
    "        runtimes.append(fft_runtime)\n",
    "        mpo_mps_apply_runtimes.append(0)\n",
    "      else:\n",
    "        mpo_runtime, mpo_mps_apply_runtime = run_benchmark(N, f)\n",
    "        runtimes.append(mpo_runtime)\n",
    "        mpo_mps_apply_runtimes.append(mpo_mps_apply_runtime)\n",
    "        \n",
    "    print(f\"Function {f_name} complete!\")\n",
    "\n",
    "    pd.DataFrame({'N': qubit_range, 'Runtime': runtimes, 'MPO + MPS Apply Runtime': mpo_mps_apply_runtimes}).to_csv(f'{f_name}_Benchmark.csv', index=False)\n",
    "\n"
   ]
  },
  {
   "attachments": {},
   "cell_type": "markdown",
   "metadata": {},
   "source": [
    "## Plotting saved CSVs"
   ]
  },
  {
   "cell_type": "code",
   "execution_count": 25,
   "metadata": {},
   "outputs": [
    {
     "data": {
      "image/png": "[encoded data removed]",
      "text/plain": [
       "<Figure size 640x480 with 1 Axes>"
      ]
     },
     "metadata": {},
     "output_type": "display_data"
    }
   ],
   "source": [
    "def plot_mpo_func(func_name, color):\n",
    "    df = pd.read_csv(f'{func_name}_Benchmark.csv')\n",
    "\n",
    "    if func_name == \"FFT\":\n",
    "      plt.plot(df['N'], df['Runtime'], linestyle='-', marker='*', color=color, label=f\"{func_name}\")\n",
    "    else:\n",
    "      plt.plot(df['N'], df['Runtime'], linestyle='-', marker='^', color=color, label=f\"{func_name}: DFT MPO\")\n",
    "      plt.plot(df['N'], df['MPO + MPS Apply Runtime'], linestyle='--', marker='o', color=color, label=f\"{func_name}: DFT MPO + MPS\")\n",
    "\n",
    "  \n",
    "\n",
    "colors = ['b', 'r', 'g', 'k']\n",
    "for color, func_name in zip(colors, function_names):\n",
    "    plot_mpo_func(func_name, color)\n",
    "\n",
    "plt.title(\"DFT MPO vs DFT MPO + MPS Runtime (Python)\")\n",
    "plt.xlabel(\"Number of qubits\")\n",
    "plt.ylabel(\"Time takes (seconds)\")\n",
    "plt.yscale('log')\n",
    "plt.legend()\n",
    "plt.savefig('graph_python.png')"
   ]
  },
  {
   "cell_type": "code",
   "execution_count": null,
   "metadata": {},
   "outputs": [],
   "source": []
  }
 ],
 "metadata": {
  "kernelspec": {
   "display_name": "Python 3",
   "language": "python",
   "name": "python3"
  },
  "language_info": {
   "codemirror_mode": {
    "name": "ipython",
    "version": 3
   },
   "file_extension": ".py",
   "mimetype": "text/x-python",
   "name": "python",
   "nbconvert_exporter": "python",
   "pygments_lexer": "ipython3",
   "version": "3.11.3"
  },
  "orig_nbformat": 4,
  "vscode": {
   "interpreter": {
    "hash": "e7370f93d1d0cde622a1f8e1c04877d8463912d04d973331ad4851f04de6915a"
   }
  }
 },
 "nbformat": 4,
 "nbformat_minor": 2
}
