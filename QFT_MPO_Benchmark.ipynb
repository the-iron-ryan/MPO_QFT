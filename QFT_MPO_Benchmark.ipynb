{
 "cells": [
  {
   "cell_type": "code",
   "execution_count": 1,
   "metadata": {},
   "outputs": [],
   "source": [
    "from TensorHelpers import *\n",
    "from QFT import *\n",
    "from MPS import *\n",
    "\n",
    "import timeit\n",
    "import numpy as np\n",
    "from qiskit.visualization import array_to_latex"
   ]
  },
  {
   "attachments": {},
   "cell_type": "markdown",
   "metadata": {},
   "source": [
    "# Benchmark functionality"
   ]
  },
  {
   "cell_type": "code",
   "execution_count": 7,
   "metadata": {},
   "outputs": [],
   "source": [
    "def run_benchmark(N, f, fft_start=0.0, fft_end=1.0, max_bond=-1, cutoff=1e-15):\n",
    "    mps = MPS(N)\n",
    "    qft = QFT(N)\n",
    "   \n",
    "    # Computing benchmark for MPS and MPO\n",
    "    mps_start = timeit.default_timer() \n",
    "    mps = mps.create_MPS([f], fft_start, fft_end, max_bond=max_bond, cutoff=cutoff, reverse=True)\n",
    "    mps_construct_time = timeit.default_timer() - mps_start\n",
    "   \n",
    "    qft_start = timeit.default_timer() \n",
    "    qft = qft.create_MPO(max_bond_dim=max_bond, cutoff=cutoff, reverse=True)\n",
    "    qft_construct_time = timeit.default_timer() - qft_start\n",
    "    \n",
    "    qft_apply_start = timeit.default_timer() \n",
    "    qft_res = qft.apply(mps)\n",
    "    qft_apply_time = timeit.default_timer() - qft_apply_start\n",
    "   \n",
    "    # Total time \n",
    "    mps_construct_apply_time = mps_construct_time + qft_apply_time\n",
    "    \n",
    "    print(f\"====== Results for benchmark (N={N}, max_bond={max_bond}, cutoff={cutoff}) ======\")\n",
    "    print(\"MPS Construct Time: \", mps_construct_time)\n",
    "    print(\"QFT Construct Time: \", qft_construct_time)\n",
    "    print(\"QFT Apply Time: \", qft_apply_time)\n",
    "    print(\"MPS + Apply Time: \", mps_construct_apply_time, \"\\n\")\n",
    "   \n",
    "    # Comparing accuracy to FFT\n",
    "    input = np.arange(fft_start, fft_end, step=1/(2**N))\n",
    "    output = f(input)\n",
    "    fft_out_vec = np.fft.fft(output).reshape(-1,) / 2**(N/2)\n",
    "    qft_out_vec = qft_res.to_dense().reshape(-1,)\n",
    "\n",
    "    print(\"QFT vs FFT Error: \", np.linalg.norm(fft_out_vec - qft_out_vec))\n",
    "\n",
    "    return mps_construct_time, mps_construct_apply_time\n"
   ]
  },
  {
   "attachments": {},
   "cell_type": "markdown",
   "metadata": {},
   "source": [
    "# Testing Benchmark"
   ]
  },
  {
   "cell_type": "code",
   "execution_count": 3,
   "metadata": {},
   "outputs": [
    {
     "name": "stdout",
     "output_type": "stream",
     "text": [
      "====== Results for benchmark (N=12, max_bond=-1, cutoff=1e-15) ======\n",
      "MPS Construct Time:  0.0794377149995853\n",
      "QFT Construct Time:  43.19267000200125\n",
      "QFT Apply Time:  0.02227201999994577\n",
      "Total Time:  43.29437973700078 \n",
      "\n",
      "QFT vs FFT Error:  8.06387047832779e-13\n"
     ]
    }
   ],
   "source": [
    "run_benchmark(12, lambda x: np.cos(x), max_bond=-1, cutoff=1e-15)"
   ]
  },
  {
   "cell_type": "code",
   "execution_count": 4,
   "metadata": {},
   "outputs": [
    {
     "name": "stdout",
     "output_type": "stream",
     "text": [
      "====== Results for benchmark (N=16, max_bond=-1, cutoff=1e-15) ======\n",
      "MPS Construct Time:  0.013445404001686256\n",
      "QFT Construct Time:  1.8696423759993195\n",
      "QFT Apply Time:  0.04022604800047702\n",
      "Total Time:  1.9233138280014828 \n",
      "\n",
      "QFT vs FFT Error:  8.307840334150616e-12\n"
     ]
    }
   ],
   "source": [
    "run_benchmark(16, lambda x: np.cos(x), max_bond=-1, cutoff=1e-15)"
   ]
  },
  {
   "cell_type": "code",
   "execution_count": 5,
   "metadata": {},
   "outputs": [
    {
     "name": "stdout",
     "output_type": "stream",
     "text": [
      "====== Results for benchmark (N=20, max_bond=-1, cutoff=1e-15) ======\n",
      "MPS Construct Time:  0.19002685899977223\n",
      "QFT Construct Time:  2.3637312239989114\n",
      "QFT Apply Time:  0.014907057000527857\n",
      "Total Time:  2.5686651399992115 \n",
      "\n",
      "QFT vs FFT Error:  1.330717896952343e-09\n"
     ]
    }
   ],
   "source": [
    "run_benchmark(20, lambda x: np.cos(x), max_bond=-1, cutoff=1e-15)"
   ]
  },
  {
   "cell_type": "code",
   "execution_count": 6,
   "metadata": {},
   "outputs": [
    {
     "name": "stdout",
     "output_type": "stream",
     "text": [
      "====== Results for benchmark (N=26, max_bond=-1, cutoff=1e-15) ======\n",
      "MPS Construct Time:  5.5631886680002935\n",
      "QFT Construct Time:  3.7497952909998276\n",
      "QFT Apply Time:  0.019454530998700648\n",
      "Total Time:  9.332438489998822 \n",
      "\n",
      "QFT vs FFT Error:  0.00017825112670845865\n"
     ]
    }
   ],
   "source": [
    "run_benchmark(26, lambda x: np.cos(x), max_bond=-1, cutoff=1e-15)"
   ]
  },
  {
   "cell_type": "code",
   "execution_count": null,
   "metadata": {},
   "outputs": [],
   "source": []
  }
 ],
 "metadata": {
  "kernelspec": {
   "display_name": "Python 3",
   "language": "python",
   "name": "python3"
  },
  "language_info": {
   "codemirror_mode": {
    "name": "ipython",
    "version": 3
   },
   "file_extension": ".py",
   "mimetype": "text/x-python",
   "name": "python",
   "nbconvert_exporter": "python",
   "pygments_lexer": "ipython3",
   "version": "3.11.3"
  },
  "orig_nbformat": 4,
  "vscode": {
   "interpreter": {
    "hash": "e7370f93d1d0cde622a1f8e1c04877d8463912d04d973331ad4851f04de6915a"
   }
  }
 },
 "nbformat": 4,
 "nbformat_minor": 2
}
